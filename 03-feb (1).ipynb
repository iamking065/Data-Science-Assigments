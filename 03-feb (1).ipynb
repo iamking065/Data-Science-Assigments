{
 "cells": [
  {
   "cell_type": "markdown",
   "id": "76114a1f-763e-4373-83fd-84f17a4c12f3",
   "metadata": {},
   "source": [
    "### Q1. Explain with an example each when to use a for loop and a while loop."
   ]
  },
  {
   "cell_type": "code",
   "execution_count": 2,
   "id": "ac1c7195-d624-46ea-9096-a33a1223ccfb",
   "metadata": {},
   "outputs": [],
   "source": [
    "# For Loop\n",
    "\n",
    "l=[10,2,4,6,2]\n",
    "l1=[]\n",
    "\n",
    "for i in l :\n",
    "    if i%2==0:\n",
    "        l1.append(i)\n",
    "    "
   ]
  },
  {
   "cell_type": "code",
   "execution_count": 3,
   "id": "067a0ef5-303b-4141-83b0-9ad960edd230",
   "metadata": {},
   "outputs": [
    {
     "data": {
      "text/plain": [
       "[10, 2, 4, 6, 2]"
      ]
     },
     "execution_count": 3,
     "metadata": {},
     "output_type": "execute_result"
    }
   ],
   "source": [
    "l1"
   ]
  },
  {
   "cell_type": "code",
   "execution_count": 4,
   "id": "ea942b24-8d88-48da-ba0b-b20e6d0322df",
   "metadata": {},
   "outputs": [
    {
     "name": "stdout",
     "output_type": "stream",
     "text": [
      "1 2 3 4 5 6 7 8 9 10 "
     ]
    }
   ],
   "source": [
    "# while loop\n",
    "\n",
    "counter=1\n",
    "\n",
    "while counter <= 10 :\n",
    "    print(counter, end=' ')\n",
    "    counter = counter + 1\n"
   ]
  },
  {
   "cell_type": "markdown",
   "id": "7817e26d-b5e6-4d4d-ae6e-d17ba7f87d1e",
   "metadata": {},
   "source": [
    "### Q2. Write a python program to print the sum and product of the first 10 natural numbers using for and while loop."
   ]
  },
  {
   "cell_type": "code",
   "execution_count": 2,
   "id": "800dfa1a-b788-44f4-bfac-4e780c9dfde2",
   "metadata": {},
   "outputs": [
    {
     "name": "stdout",
     "output_type": "stream",
     "text": [
      "55\n"
     ]
    }
   ],
   "source": [
    "i = 1\n",
    "sum = 0\n",
    "\n",
    "while i<=10 :\n",
    "    sum=sum+i\n",
    "    i=i+1\n",
    "    \n",
    "print(sum)"
   ]
  },
  {
   "cell_type": "markdown",
   "id": "e42a098d-2d52-4646-874c-7ad0427122e3",
   "metadata": {},
   "source": [
    "### Q3. Create a python program to compute the electricity bill for a household.\n",
    "### The per-unit charges in rupees are as follows: For the first 100 units, the user will be charged Rs. 4.5 per unit, for the next 100 units, the user will be charged Rs. 6 per unit, and for the next 100 units, the user will be charged Rs. 10 per unit, After 300 units and above the user will be charged Rs. 20 per unit.\n",
    "### You are required to take the units of electricity consumed in a month from the user as input.\n",
    "\n",
    "\n",
    "\n",
    "\n"
   ]
  },
  {
   "cell_type": "code",
   "execution_count": 9,
   "id": "88042ca4-3616-449f-ae85-b9d6805107d0",
   "metadata": {},
   "outputs": [
    {
     "name": "stdin",
     "output_type": "stream",
     "text": [
      "How much unit you use this month 280\n"
     ]
    },
    {
     "name": "stdout",
     "output_type": "stream",
     "text": [
      "2800\n"
     ]
    }
   ],
   "source": [
    "unit = int(input(\"How much unit you use this month\"))\n",
    "\n",
    "if unit<100 and unit>0 :\n",
    "    bill=unit*4.5\n",
    "    print(bill)\n",
    "elif unit>100 and unit<200 :\n",
    "    bill=unit*6\n",
    "    print(bill)\n",
    "elif unit>200 and unit<300 :\n",
    "    bill=unit*10\n",
    "    print(bill)\n",
    "else :\n",
    "    bill=unit*20\n",
    "    print(bill)\n",
    "\n",
    "    "
   ]
  },
  {
   "cell_type": "markdown",
   "id": "ce58c192-d52d-44fb-aab3-149d73571def",
   "metadata": {},
   "source": [
    "### Q4. Create a list of numbers from 1 to 100. Use for loop and while loop to calculate the cube of each number and if the cube of that number is divisible by 4 or 5 then append that number in a list and print that list."
   ]
  },
  {
   "cell_type": "code",
   "execution_count": 5,
   "id": "f589053d-e908-43f4-8c17-5ac2fcced6a4",
   "metadata": {},
   "outputs": [],
   "source": [
    "l=[]\n",
    "\n",
    "for i in range(100) :\n",
    "    j=i**2\n",
    "    if j%4==0 and j%5==0 :\n",
    "        l.append(i)\n",
    "    "
   ]
  },
  {
   "cell_type": "code",
   "execution_count": 6,
   "id": "f0336e64-88e1-4a72-a426-9fb916ad85c9",
   "metadata": {},
   "outputs": [
    {
     "data": {
      "text/plain": [
       "[0, 10, 20, 30, 40, 50, 60, 70, 80, 90]"
      ]
     },
     "execution_count": 6,
     "metadata": {},
     "output_type": "execute_result"
    }
   ],
   "source": [
    "l"
   ]
  },
  {
   "cell_type": "markdown",
   "id": "290b42d9-6d71-4385-9f54-de6289d3f559",
   "metadata": {},
   "source": [
    "### Q5. Write a program to filter count vowels in the below-given string.\n",
    "### string = \"I want to become a data scientist\""
   ]
  },
  {
   "cell_type": "code",
   "execution_count": 9,
   "id": "c40c3f3c-3073-4058-bfa3-277fb0d8ec9c",
   "metadata": {},
   "outputs": [
    {
     "name": "stdout",
     "output_type": "stream",
     "text": [
      "Number of vowels are:\n",
      "12\n"
     ]
    }
   ],
   "source": [
    "string = \"I want to become a data scientist\"\n",
    "vowels=0\n",
    "for i in string:\n",
    "      if(i=='a' or i=='e' or i=='i' or i=='o' or i=='u' or i=='A' or i=='E' or i=='I' or i=='O' or i=='U'):\n",
    "            vowels=vowels+1\n",
    "print(\"Number of vowels are:\")\n",
    "print(vowels)"
   ]
  },
  {
   "cell_type": "code",
   "execution_count": null,
   "id": "a64c4a4e-1233-47df-98aa-865910d40841",
   "metadata": {},
   "outputs": [],
   "source": []
  }
 ],
 "metadata": {
  "kernelspec": {
   "display_name": "Python 3 (ipykernel)",
   "language": "python",
   "name": "python3"
  },
  "language_info": {
   "codemirror_mode": {
    "name": "ipython",
    "version": 3
   },
   "file_extension": ".py",
   "mimetype": "text/x-python",
   "name": "python",
   "nbconvert_exporter": "python",
   "pygments_lexer": "ipython3",
   "version": "3.10.9"
  }
 },
 "nbformat": 4,
 "nbformat_minor": 5
}
