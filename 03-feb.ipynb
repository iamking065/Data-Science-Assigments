{
 "cells": [
  {
   "cell_type": "markdown",
   "id": "427c9fac-3a41-4bf9-b22e-a7c7f5c16c32",
   "metadata": {},
   "source": [
    "### Q1 Which keyword is used to create a function? Create a function to return a list of odd numbers in therange of 1 to 25."
   ]
  },
  {
   "cell_type": "markdown",
   "id": "d611be10-2232-4693-a24d-ca106ea6d5ac",
   "metadata": {},
   "source": [
    "In Python, the keyword used to create a function is \"def\"."
   ]
  },
  {
   "cell_type": "code",
   "execution_count": 1,
   "id": "a67e6dba-29c8-41bb-beb2-9a35ff563327",
   "metadata": {},
   "outputs": [],
   "source": [
    "def odd_num() :\n",
    "    l=[]\n",
    "    for i in range(1,25) :\n",
    "        if i%2 != 0 :\n",
    "            l.append(i)\n",
    "    return l"
   ]
  },
  {
   "cell_type": "code",
   "execution_count": 2,
   "id": "7bf3d4cf-3e01-4b6f-8867-ce090cae0630",
   "metadata": {},
   "outputs": [
    {
     "data": {
      "text/plain": [
       "[1, 3, 5, 7, 9, 11, 13, 15, 17, 19, 21, 23]"
      ]
     },
     "execution_count": 2,
     "metadata": {},
     "output_type": "execute_result"
    }
   ],
   "source": [
    "odd_num()"
   ]
  },
  {
   "cell_type": "markdown",
   "id": "ae25c658-c675-49d4-9410-6f71bfdf729f",
   "metadata": {},
   "source": [
    "### Q2 Why *args and **kwargs is used in some functions? Create a function each for *args and **kwargs to demonstrate their use."
   ]
  },
  {
   "cell_type": "markdown",
   "id": "77abb64f-fdb4-48c1-a415-991ffb87e0c9",
   "metadata": {},
   "source": [
    "*args used to pass variable number of non-keyword arguments to a function. it always take arguments in tuple form"
   ]
  },
  {
   "cell_type": "code",
   "execution_count": 3,
   "id": "33dbaa2b-bdd7-4079-9ed0-2bee4f6a23a7",
   "metadata": {},
   "outputs": [],
   "source": [
    "# example_of_*args\n",
    "\n",
    "def name(*args) :\n",
    "    for i in args :\n",
    "        print(i)"
   ]
  },
  {
   "cell_type": "code",
   "execution_count": 4,
   "id": "587a0efa-1c95-4503-b998-ecab77c2b5b8",
   "metadata": {},
   "outputs": [
    {
     "name": "stdout",
     "output_type": "stream",
     "text": [
      "lucky\n",
      "samir\n",
      "zeeshan\n"
     ]
    }
   ],
   "source": [
    "name(\"lucky\",\"samir\",\"zeeshan\")"
   ]
  },
  {
   "cell_type": "markdown",
   "id": "e358bd1e-c459-4313-b381-bf880bd54645",
   "metadata": {},
   "source": [
    "**kwargs used to pass variable number of keyword arguments to a function. it always take argumens in dictionary form."
   ]
  },
  {
   "cell_type": "code",
   "execution_count": 17,
   "id": "4126aaea-9e82-4b0c-bc6f-f5b38d83b593",
   "metadata": {},
   "outputs": [],
   "source": [
    "# example_of_*kwargs\n",
    "\n",
    "def student_details(**kwargs) :\n",
    "    print(kwargs)"
   ]
  },
  {
   "cell_type": "code",
   "execution_count": 18,
   "id": "f04a1b9d-c5eb-434b-88b9-1c8d0be30dd2",
   "metadata": {},
   "outputs": [
    {
     "name": "stdout",
     "output_type": "stream",
     "text": [
      "{'name': 'Lucky', 'Age': 19, 'University': 'Amity University'}\n"
     ]
    }
   ],
   "source": [
    "student_details(name=\"Lucky\" , Age=19 , University=\"Amity University\")"
   ]
  },
  {
   "cell_type": "markdown",
   "id": "6b724fbb-2aee-4fe1-a9b5-6bf909cc0f32",
   "metadata": {},
   "source": [
    "### Q3 What is an iterator in python? Name the method used to initialise the iterator object and the method used for iteration. Use these methods to print the first five elements of the given list [2, 4, 6, 8, 10, 12, 14, 16, 18, 20]."
   ]
  },
  {
   "cell_type": "markdown",
   "id": "3324c161-392f-451d-b197-bc2e5746b38d",
   "metadata": {},
   "source": [
    "iterator :-  iterator is an object that allows you to iterate over collections of data, such as lists, tuples, dictionaries, and sets.\n",
    "\n",
    "Method used to initilise the iterator :- Iter() method is used to initialize the iterator object."
   ]
  },
  {
   "cell_type": "code",
   "execution_count": 26,
   "id": "a0fb439f-d0e4-44ff-acad-f90c6fc08adf",
   "metadata": {},
   "outputs": [
    {
     "name": "stdout",
     "output_type": "stream",
     "text": [
      "2\n",
      "4\n",
      "6\n",
      "8\n",
      "10\n"
     ]
    }
   ],
   "source": [
    "l=[2, 4, 6, 8, 10, 12, 14, 16, 18, 20]\n",
    "\n",
    "iter_object=iter(l)  # Here we make iter object\n",
    "\n",
    "for i in range(5) :\n",
    "    element=next(iter_object)\n",
    "    print(element)\n",
    "    "
   ]
  },
  {
   "cell_type": "markdown",
   "id": "ade32de6-472c-46ec-9056-dd7495d46ffd",
   "metadata": {},
   "source": [
    "### Q4. What is a generator function in python? Why yield keyword is used? Give an example of a generator function."
   ]
  },
  {
   "cell_type": "markdown",
   "id": "fda5e73b-ea28-4ad8-b476-e8cd942f6145",
   "metadata": {},
   "source": [
    "Generators function :- A generator-function is defined like a normal function, but whenever it needs to generate a value, it does so with the yield keyword rather than return. If the body of a def contains yield, the function automatically becomes a generator function. "
   ]
  },
  {
   "cell_type": "markdown",
   "id": "61e06ec5-e329-4586-a218-d2ce47bb3f59",
   "metadata": {},
   "source": [
    "A Generator function that returns an object (iterator) which we can iterate over, but one value at a time.\n"
   ]
  },
  {
   "cell_type": "markdown",
   "id": "c075a8ce-37eb-4c04-8573-6c668c272fc9",
   "metadata": {},
   "source": [
    "The yield keyword is used to produce a value from the generator function, which is then returned to the caller. However, unlike the return statement, yield does not terminate the function. Instead, it saves the current state of the function and allows it to be resumed later. Each time the generator function is called, it starts from where it left off, executing until it reaches the next yield statement."
   ]
  },
  {
   "cell_type": "code",
   "execution_count": 2,
   "id": "cfe413ea-faa7-47c7-b10b-e858b2e2cf14",
   "metadata": {},
   "outputs": [],
   "source": [
    "def square():\n",
    "        for i in range(5):\n",
    "            yield i ** 2\n",
    "square_gen = square()"
   ]
  },
  {
   "cell_type": "code",
   "execution_count": 3,
   "id": "6ad72a29-262b-4343-9411-623e20ab1e30",
   "metadata": {},
   "outputs": [
    {
     "data": {
      "text/plain": [
       "generator"
      ]
     },
     "execution_count": 3,
     "metadata": {},
     "output_type": "execute_result"
    }
   ],
   "source": [
    "type(square_gen)"
   ]
  },
  {
   "cell_type": "code",
   "execution_count": 3,
   "id": "3e8cfc60-3c8b-48c1-b5fe-9891087a59b4",
   "metadata": {},
   "outputs": [
    {
     "name": "stdout",
     "output_type": "stream",
     "text": [
      "0\n",
      "1\n",
      "4\n",
      "9\n"
     ]
    }
   ],
   "source": [
    "# 1st method\n",
    "\n",
    "print(next(square_gen))\n",
    "print(next(square_gen))\n",
    "print(next(square_gen))\n",
    "print(next(square_gen))"
   ]
  },
  {
   "cell_type": "code",
   "execution_count": 4,
   "id": "c259f604-0624-4398-b231-585c8903e290",
   "metadata": {},
   "outputs": [
    {
     "name": "stdout",
     "output_type": "stream",
     "text": [
      "0\n",
      "1\n",
      "4\n",
      "9\n",
      "16\n"
     ]
    }
   ],
   "source": [
    "#  2nd method \n",
    "\n",
    "for j in square_gen :\n",
    "    print(j)"
   ]
  },
  {
   "cell_type": "markdown",
   "id": "f92321bd-0e37-46c9-be5b-662f9aa54779",
   "metadata": {},
   "source": [
    "### Q5 Create a generator function for prime numbers less than 1000. Use the next() method to print the first 20 prime numbers."
   ]
  },
  {
   "cell_type": "code",
   "execution_count": 2,
   "id": "d1cfc06f-d131-49b4-99c1-c11d3bdc0b1a",
   "metadata": {},
   "outputs": [],
   "source": [
    "def primeNum():\n",
    "    primes = []\n",
    "    for num in range(2,1000):\n",
    "        for i in primes:\n",
    "            if num%i == 0:\n",
    "                break\n",
    "        else:\n",
    "            primes.append(num)\n",
    "            yield num\n"
   ]
  },
  {
   "cell_type": "code",
   "execution_count": 22,
   "id": "1e91b9c6-1b99-475f-8408-b7a8bdc4b51c",
   "metadata": {},
   "outputs": [],
   "source": [
    "prime_obj= primeNum()"
   ]
  },
  {
   "cell_type": "code",
   "execution_count": 21,
   "id": "d587b4ed-9643-4b2a-baea-c90a2001c1b7",
   "metadata": {},
   "outputs": [
    {
     "name": "stdout",
     "output_type": "stream",
     "text": [
      "<function primeNum at 0x000001CAF3A93130>\n"
     ]
    }
   ],
   "source": [
    "print(prime_obj)"
   ]
  },
  {
   "cell_type": "code",
   "execution_count": 8,
   "id": "7cb208b1-1920-49c7-8e14-679e5776ced5",
   "metadata": {},
   "outputs": [
    {
     "name": "stdout",
     "output_type": "stream",
     "text": [
      "2\n",
      "3\n",
      "5\n",
      "7\n",
      "11\n",
      "13\n",
      "17\n",
      "19\n",
      "23\n",
      "29\n",
      "31\n",
      "37\n",
      "41\n",
      "43\n",
      "47\n",
      "53\n",
      "59\n",
      "61\n",
      "67\n",
      "71\n"
     ]
    }
   ],
   "source": [
    "for i in range(1,21):\n",
    "    print(next(prime))"
   ]
  },
  {
   "cell_type": "markdown",
   "id": "84dfd2d6-e7f6-407d-9c29-0af4261a2553",
   "metadata": {},
   "source": [
    "### Q6 Write a python program to print the first 10 Fibonacci numbers using a while loop."
   ]
  },
  {
   "cell_type": "code",
   "execution_count": 10,
   "id": "4eaeef8d-82eb-4d82-80ea-fbad545f8f8b",
   "metadata": {},
   "outputs": [
    {
     "name": "stdout",
     "output_type": "stream",
     "text": [
      "0\n",
      "1\n",
      "1\n",
      "2\n",
      "3\n",
      "5\n",
      "8\n",
      "13\n",
      "21\n",
      "34\n"
     ]
    }
   ],
   "source": [
    "number = 10\n",
    "a=0\n",
    "b=1\n",
    "\n",
    "coutner = 0\n",
    "while coutner < number :\n",
    "    print(a)\n",
    "    c = a + b\n",
    "    a = b\n",
    "    b = c\n",
    "    coutner =  coutner + 1"
   ]
  },
  {
   "cell_type": "markdown",
   "id": "467ece70-4f74-4db7-ac93-ccc97d1bad4e",
   "metadata": {},
   "source": [
    "### Q7 Write a List Comprehension to iterate through the given string: ‘pwskills’.\n",
    "###     Expected output: ['p', 'w', 's', 'k', 'i', 'l', 'l', 's']"
   ]
  },
  {
   "cell_type": "code",
   "execution_count": 11,
   "id": "8bd426ff-2069-4219-ad37-5239fc238867",
   "metadata": {},
   "outputs": [],
   "source": [
    "s='pwskills'"
   ]
  },
  {
   "cell_type": "code",
   "execution_count": 15,
   "id": "6c633835-a2d9-44e8-8f43-1c54bce03020",
   "metadata": {},
   "outputs": [
    {
     "data": {
      "text/plain": [
       "['p', 'w', 's', 'k', 'i', 'l', 'l', 's']"
      ]
     },
     "execution_count": 15,
     "metadata": {},
     "output_type": "execute_result"
    }
   ],
   "source": [
    "[i for i in s]"
   ]
  },
  {
   "cell_type": "markdown",
   "id": "6f6236cb-79e2-4cbd-9c81-595192b1880f",
   "metadata": {},
   "source": [
    "### Q8 Write a python program to check whether a given number is Palindrome or not using a while loop."
   ]
  },
  {
   "cell_type": "code",
   "execution_count": 17,
   "id": "2f33fe10-13bc-4dee-b245-54f4a34d3a4b",
   "metadata": {},
   "outputs": [
    {
     "name": "stdout",
     "output_type": "stream",
     "text": [
      "Palindrome\n"
     ]
    }
   ],
   "source": [
    "num = 1221\n",
    "temp = num\n",
    "reverse = 0\n",
    "while temp > 0:\n",
    "    remainder = temp % 10\n",
    "    reverse = (reverse * 10) + remainder\n",
    "    temp = temp // 10\n",
    "if num == reverse:\n",
    "    print('Palindrome')\n",
    "else:\n",
    "    print(\"Not Palindrome\")"
   ]
  },
  {
   "cell_type": "code",
   "execution_count": null,
   "id": "808d10bc-4519-411e-8ff3-73e0f1bd7578",
   "metadata": {},
   "outputs": [],
   "source": [
    "num"
   ]
  },
  {
   "cell_type": "markdown",
   "id": "6aff21ba-e88b-4dd4-bc55-4c04ef784faf",
   "metadata": {},
   "source": [
    "### Q9. Write a code to print odd numbers from 1 to 100 using list comprehension.\n",
    "\n",
    "### Note: Use a list comprehension to create a list from 1 to 100 and use another List comprehension to filter out odd numbers"
   ]
  },
  {
   "cell_type": "code",
   "execution_count": 18,
   "id": "35e830a5-5f75-41e0-9565-72d122bfe799",
   "metadata": {},
   "outputs": [
    {
     "name": "stdout",
     "output_type": "stream",
     "text": [
      "[1, 3, 5, 7, 9, 11, 13, 15, 17, 19, 21, 23, 25, 27, 29, 31, 33, 35, 37, 39, 41, 43, 45, 47, 49, 51, 53, 55, 57, 59, 61, 63, 65, 67, 69, 71, 73, 75, 77, 79, 81, 83, 85, 87, 89, 91, 93, 95, 97, 99]\n"
     ]
    },
    {
     "data": {
      "text/plain": [
       "[1,\n",
       " 3,\n",
       " 5,\n",
       " 7,\n",
       " 9,\n",
       " 11,\n",
       " 13,\n",
       " 15,\n",
       " 17,\n",
       " 19,\n",
       " 21,\n",
       " 23,\n",
       " 25,\n",
       " 27,\n",
       " 29,\n",
       " 31,\n",
       " 33,\n",
       " 35,\n",
       " 37,\n",
       " 39,\n",
       " 41,\n",
       " 43,\n",
       " 45,\n",
       " 47,\n",
       " 49,\n",
       " 51,\n",
       " 53,\n",
       " 55,\n",
       " 57,\n",
       " 59,\n",
       " 61,\n",
       " 63,\n",
       " 65,\n",
       " 67,\n",
       " 69,\n",
       " 71,\n",
       " 73,\n",
       " 75,\n",
       " 77,\n",
       " 79,\n",
       " 81,\n",
       " 83,\n",
       " 85,\n",
       " 87,\n",
       " 89,\n",
       " 91,\n",
       " 93,\n",
       " 95,\n",
       " 97,\n",
       " 99]"
      ]
     },
     "execution_count": 18,
     "metadata": {},
     "output_type": "execute_result"
    }
   ],
   "source": [
    "odd = [x for x in range(1,101) if x%2!=0]\n",
    "print(odd)\n",
    "list(odd)"
   ]
  },
  {
   "cell_type": "code",
   "execution_count": null,
   "id": "60162a38-dc1f-45f3-b774-0adf58f81a82",
   "metadata": {},
   "outputs": [],
   "source": []
  },
  {
   "cell_type": "code",
   "execution_count": null,
   "id": "cba99d0f-100f-42ed-bf20-6ec54826deb3",
   "metadata": {},
   "outputs": [],
   "source": []
  }
 ],
 "metadata": {
  "kernelspec": {
   "display_name": "Python 3 (ipykernel)",
   "language": "python",
   "name": "python3"
  },
  "language_info": {
   "codemirror_mode": {
    "name": "ipython",
    "version": 3
   },
   "file_extension": ".py",
   "mimetype": "text/x-python",
   "name": "python",
   "nbconvert_exporter": "python",
   "pygments_lexer": "ipython3",
   "version": "3.10.9"
  }
 },
 "nbformat": 4,
 "nbformat_minor": 5
}
